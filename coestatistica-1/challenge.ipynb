{
 "cells": [
  {
   "cell_type": "markdown",
   "metadata": {},
   "source": [
    "# Conhecendo melhor nossa base de consumidores: qual estado possui os clientes com melhores pontuações de crédito?\n",
    "\n",
    "## Objetivo\n",
    "\n",
    "Queremos conhecer melhor nossos clientes por estado. Para isso, iniciamos uma análise na pontuação de crédito. \n",
    "Para realizar a verificação inicial, precisamos de alguns valores.\n",
    "Os valores são a média, a mediana, a moda e o desvio padrão da pontuação de crédito.\n",
    "\n",
    "## Tópicos\n",
    "\n",
    "Neste desafio você aprenderá:\n",
    "\n",
    "- Média;\n",
    "- Mediana;\n",
    "- Moda;\n",
    "- Desvio padrão.\n",
    "\n",
    "## Requisitos\n",
    "\n",
    "Você precisará de python 3.6 (ou superior).\n",
    "\n",
    "O recomendado é você utilizar um [ambiente virtual](https://pythonacademy.com.br/blog/python-e-virtualenv-como-programar-em-ambientes-virtuais). Para isto, execute os comandos como no exemplo abaixo:\n",
    "\n",
    "    pip3 install virtualenv\n",
    "    virtualenv venv -p python3\n",
    "    source venv/bin/activate \n",
    "\n",
    "Ao terminar o desafio, você pode sair do ambiente criado com o comando `deactivate`\n",
    "\n",
    "## Detalhes\n",
    "\n",
    "A resposta deve conter os valores da média, mediana, moda e desvio padrão da pontuação de crédito para cada estado do dataset.\n",
    "O arquivo para submissão deve estar em formato json, conforme o arquivo exemplo \"submission.json\".\n",
    "\n",
    "Descrição dos dados:\n",
    "\n",
    "- *'id'*: Identificador do cliente\n",
    "- *'sobrenome'*: Sobrenome do cliente\n",
    "- *'pontuacao_credito'*: Pontuação de crédito do cliente (quanto maior, melhor o cliente geralmente)\n",
    "- *'estado_residencia'*: Estado de residência do cliente\n",
    "- *'genero'*: Gênero do cliente\n",
    "- *'nivel_estabilidade'*: Nível de estabilidade do cliente\n",
    "- *'saldo_conta'*: Saldo disponível na conta do cliente\n",
    "- *'numero_produtos'*: Número de produtos que o cliente consome\n",
    "- *'possui_cartao_de_credito'*: Possui um cartão de crédito cadastrado\n",
    "- *'membro_ativo'*: Membro acessa e consome frequentemente"
   ]
  },
  {
   "cell_type": "markdown",
   "metadata": {},
   "source": [
    "#### 1. Importando Bibliotecas"
   ]
  },
  {
   "cell_type": "code",
   "execution_count": 49,
   "metadata": {},
   "outputs": [],
   "source": [
    "import pandas as pd"
   ]
  },
  {
   "cell_type": "markdown",
   "metadata": {},
   "source": [
    "#### 2. Criando as funções com as respectivas operações"
   ]
  },
  {
   "cell_type": "code",
   "execution_count": 63,
   "metadata": {},
   "outputs": [],
   "source": [
    "def mean(dataframe):\n",
    "    \"\"\"Calculate the mean from a dataframe\"\"\"\n",
    "    return dataframe.mean()\n",
    "\n",
    "\n",
    "def median(dataframe):\n",
    "    \"\"\"Calculate the median from a dataframe\"\"\"\n",
    "    return int(dataframe.median())\n",
    "\n",
    "\n",
    "def mode(dataframe):\n",
    "    \"\"\"Calculate the mode from a dataframe\"\"\"\n",
    "    return dataframe.mode()[0]\n",
    "\n",
    "\n",
    "def std(dataframe):\n",
    "    \"\"\"Calculate the std from a dataframe\"\"\"\n",
    "    return dataframe.std()"
   ]
  },
  {
   "cell_type": "markdown",
   "metadata": {},
   "source": [
    "#### 3. Carregando os dados"
   ]
  },
  {
   "cell_type": "code",
   "execution_count": 64,
   "metadata": {},
   "outputs": [],
   "source": [
    "# Loading the .csv file in a dataframe named 'challenge'\n",
    "challenge = pd.read_csv(\"desafio1.csv\")"
   ]
  },
  {
   "cell_type": "markdown",
   "metadata": {},
   "source": [
    "#### 4. Manipulando os dados"
   ]
  },
  {
   "cell_type": "code",
   "execution_count": 65,
   "metadata": {},
   "outputs": [
    {
     "data": {
      "text/html": [
       "<div>\n",
       "<style scoped>\n",
       "    .dataframe tbody tr th:only-of-type {\n",
       "        vertical-align: middle;\n",
       "    }\n",
       "\n",
       "    .dataframe tbody tr th {\n",
       "        vertical-align: top;\n",
       "    }\n",
       "\n",
       "    .dataframe thead th {\n",
       "        text-align: right;\n",
       "    }\n",
       "</style>\n",
       "<table border=\"1\" class=\"dataframe\">\n",
       "  <thead>\n",
       "    <tr style=\"text-align: right;\">\n",
       "      <th></th>\n",
       "      <th>moda</th>\n",
       "      <th>mediana</th>\n",
       "      <th>media</th>\n",
       "      <th>desvio_padrao</th>\n",
       "    </tr>\n",
       "    <tr>\n",
       "      <th>estado_residencia</th>\n",
       "      <th></th>\n",
       "      <th></th>\n",
       "      <th></th>\n",
       "      <th></th>\n",
       "    </tr>\n",
       "  </thead>\n",
       "  <tbody>\n",
       "    <tr>\n",
       "      <th>PR</th>\n",
       "      <td>850</td>\n",
       "      <td>650</td>\n",
       "      <td>648.961294</td>\n",
       "      <td>98.607186</td>\n",
       "    </tr>\n",
       "    <tr>\n",
       "      <th>RS</th>\n",
       "      <td>850</td>\n",
       "      <td>650</td>\n",
       "      <td>651.105143</td>\n",
       "      <td>95.136598</td>\n",
       "    </tr>\n",
       "    <tr>\n",
       "      <th>SC</th>\n",
       "      <td>850</td>\n",
       "      <td>653</td>\n",
       "      <td>649.537653</td>\n",
       "      <td>97.233493</td>\n",
       "    </tr>\n",
       "  </tbody>\n",
       "</table>\n",
       "</div>"
      ],
      "text/plain": [
       "                   moda  mediana       media  desvio_padrao\n",
       "estado_residencia                                          \n",
       "PR                  850      650  648.961294      98.607186\n",
       "RS                  850      650  651.105143      95.136598\n",
       "SC                  850      653  649.537653      97.233493"
      ]
     },
     "execution_count": 65,
     "metadata": {},
     "output_type": "execute_result"
    }
   ],
   "source": [
    "# Generating a groupby calculating the operations from the specific states with 'pontuacao_credito'\n",
    "data = challenge.groupby('estado_residencia').agg([mode, median, mean, std])['pontuacao_credito']\n",
    "\n",
    "# Rename the columns from the 'data' dataframe\n",
    "data.columns = ['moda', 'mediana', 'media', 'desvio_padrao']\n",
    "\n",
    "# Showing the 'data' dataframe\n",
    "data"
   ]
  },
  {
   "cell_type": "markdown",
   "metadata": {},
   "source": [
    "#### 5. Gerando a saída"
   ]
  },
  {
   "cell_type": "code",
   "execution_count": 66,
   "metadata": {},
   "outputs": [],
   "source": [
    "# Saving the data in a .json file:\n",
    "data.to_json('submission.json', orient='index')"
   ]
  }
 ],
 "metadata": {
  "kernelspec": {
   "display_name": "Python 3",
   "language": "python",
   "name": "python3"
  },
  "language_info": {
   "codemirror_mode": {
    "name": "ipython",
    "version": 3
   },
   "file_extension": ".py",
   "mimetype": "text/x-python",
   "name": "python",
   "nbconvert_exporter": "python",
   "pygments_lexer": "ipython3",
   "version": "3.6.9"
  }
 },
 "nbformat": 4,
 "nbformat_minor": 4
}
